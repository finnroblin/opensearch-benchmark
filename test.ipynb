{
 "cells": [
  {
   "cell_type": "code",
   "execution_count": 1,
   "metadata": {},
   "outputs": [],
   "source": [
    "import h5py"
   ]
  },
  {
   "cell_type": "code",
   "execution_count": 3,
   "metadata": {},
   "outputs": [],
   "source": [
    "f = h5py.File(\"data-nested.hdf5\")"
   ]
  },
  {
   "cell_type": "code",
   "execution_count": 11,
   "metadata": {},
   "outputs": [
    {
     "data": {
      "text/plain": [
       "b'1'"
      ]
     },
     "execution_count": 11,
     "metadata": {},
     "output_type": "execute_result"
    }
   ],
   "source": [
    "f[\"attributes\"][0][3]"
   ]
  },
  {
   "cell_type": "code",
   "execution_count": null,
   "metadata": {},
   "outputs": [],
   "source": [
    "def add_parent_ids(hdf5_path):\n",
    "    with h5py.File(hdf5_path, 'a') as f:  # Open the file in append mode\n",
    "        attributes = f['attributes'][:]  # Load the attributes dataset\n",
    "        \n",
    "        # Extract the parent ids (4th element from each inner array)\n",
    "        parents = attributes[:, -1, -1]  # Assuming the last item in the last tuple is the parent id\n",
    "        \n",
    "        # Create a new dataset for parent ids if it doesn't exist already\n",
    "        if 'parents' in f:\n",
    "            del f['parents']  # Delete existing 'parents' dataset if you want to replace it\n",
    "        f.create_dataset('parents', data=parents)"
   ]
  },
  {
   "cell_type": "code",
   "execution_count": 4,
   "metadata": {},
   "outputs": [],
   "source": [
    " attributes = f['attributes']"
   ]
  },
  {
   "cell_type": "code",
   "execution_count": 5,
   "metadata": {},
   "outputs": [
    {
     "data": {
      "text/plain": [
       "<HDF5 dataset \"train\": shape (1000000, 128), type \"<f4\">"
      ]
     },
     "execution_count": 5,
     "metadata": {},
     "output_type": "execute_result"
    }
   ],
   "source": [
    "parents = attributes[:][:,-1]\n",
    "f[\"train\"]"
   ]
  },
  {
   "cell_type": "code",
   "execution_count": 6,
   "metadata": {},
   "outputs": [],
   "source": [
    "parents_fixed = [int(id) for id in parents]"
   ]
  },
  {
   "cell_type": "code",
   "execution_count": 8,
   "metadata": {},
   "outputs": [],
   "source": [
    "f.close()"
   ]
  },
  {
   "cell_type": "markdown",
   "metadata": {},
   "source": []
  },
  {
   "cell_type": "code",
   "execution_count": 2,
   "metadata": {},
   "outputs": [],
   "source": [
    "with h5py.File(\"data-nested.hdf5\", 'a') as f:\n",
    "    del f[\"parents\"]"
   ]
  },
  {
   "cell_type": "code",
   "execution_count": null,
   "metadata": {},
   "outputs": [],
   "source": []
  },
  {
   "cell_type": "code",
   "execution_count": 9,
   "metadata": {},
   "outputs": [],
   "source": [
    "with h5py.File(\"data-nested.hdf5\", \"a\") as f:\n",
    "    f.create_dataset(\"parents\", data=parents_fixed)\n",
    "    "
   ]
  },
  {
   "cell_type": "code",
   "execution_count": 10,
   "metadata": {},
   "outputs": [],
   "source": [
    "f = h5py.File(\"data-nested.hdf5\")"
   ]
  },
  {
   "cell_type": "code",
   "execution_count": 11,
   "metadata": {},
   "outputs": [
    {
     "data": {
      "text/plain": [
       "<KeysViewHDF5 ['attributes', 'neighbors', 'neighbour_nested', 'neighbour_relaxed', 'neighbour_restricted', 'parents', 'test', 'train']>"
      ]
     },
     "execution_count": 11,
     "metadata": {},
     "output_type": "execute_result"
    }
   ],
   "source": [
    "f.keys()"
   ]
  },
  {
   "cell_type": "code",
   "execution_count": 23,
   "metadata": {},
   "outputs": [
    {
     "data": {
      "text/plain": [
       "<HDF5 dataset \"parents\": shape (1000000,), type \"<i8\">"
      ]
     },
     "execution_count": 23,
     "metadata": {},
     "output_type": "execute_result"
    }
   ],
   "source": [
    "f[\"parents\"]"
   ]
  },
  {
   "cell_type": "code",
   "execution_count": 14,
   "metadata": {},
   "outputs": [],
   "source": [
    "sift = h5py.File(\"sift-128-euclidean.hdf5\")"
   ]
  },
  {
   "cell_type": "code",
   "execution_count": 15,
   "metadata": {},
   "outputs": [
    {
     "data": {
      "text/plain": [
       "<KeysViewHDF5 ['distances', 'neighbors', 'test', 'train']>"
      ]
     },
     "execution_count": 15,
     "metadata": {},
     "output_type": "execute_result"
    }
   ],
   "source": [
    "sift.keys()"
   ]
  },
  {
   "cell_type": "code",
   "execution_count": 24,
   "metadata": {},
   "outputs": [
    {
     "name": "stdout",
     "output_type": "stream",
     "text": [
      "[[232.87122  234.71472  243.98976  ... 288.75076  288.81656  288.90482 ]\n",
      " [226.24544  229.28148  234.12177  ... 257.82745  258.01938  258.22665 ]\n",
      " [175.4765   176.3264   183.32484  ... 213.92055  214.07475  214.10745 ]\n",
      " ...\n",
      " [233.53159  246.01016  247.94556  ... 294.4758   294.486    294.69644 ]\n",
      " [102.13716  102.567055 103.33441  ... 125.39936  125.57468  125.670204]\n",
      " [184.61311  217.29243  219.50398  ... 291.26105  291.35544  291.58875 ]] [[932085 934876 561813 ... 398306 931721 989762]\n",
      " [413247 413071 706838 ... 855176 846198 987074]\n",
      " [669835 408764 408462 ... 310475 971815 937903]\n",
      " ...\n",
      " [  8825 807683  84825 ... 215391 479876 888258]\n",
      " [112511 911693 768297 ... 641843 656375 648224]\n",
      " [  8082 440321 753623 ... 991636 902628 918074]] [[ 1.  3. 11. ... 42. 48. 11.]\n",
      " [40. 25. 11. ...  3. 19. 13.]\n",
      " [28.  4.  3. ...  2. 54. 47.]\n",
      " ...\n",
      " [14.  8.  0. ... 32. 14. 15.]\n",
      " [11. 48. 10. ...  0.  0.  0.]\n",
      " [ 4. 10.  5. ... 43.  0.  8.]] [[ 0. 16. 35. ... 25. 23.  1.]\n",
      " [14. 35. 19. ... 11. 21. 33.]\n",
      " [ 0.  1.  5. ...  4. 23. 10.]\n",
      " ...\n",
      " [ 1.  9.  9. ... 18. 12.  0.]\n",
      " [ 8.  4.  2. ...  0.  0.  0.]\n",
      " [ 0.  0.  0. ...  0. 30. 42.]]\n"
     ]
    }
   ],
   "source": [
    "small_distances = sift['distances'][:100]\n",
    "small_neighbors = sift['neighbors'][:100] # might be wrong\n",
    "small_test = sift[\"test\"][:100]\n",
    "small_train = sift[\"train\"][:100]\n",
    "print(small_distances, small_neighbors, small_test,small_train)\n",
    "\n",
    "out_file = h5py.File(\"euclid-small\", 'w')\n"
   ]
  },
  {
   "cell_type": "code",
   "execution_count": 25,
   "metadata": {},
   "outputs": [
    {
     "data": {
      "text/plain": [
       "<HDF5 dataset \"neighbors\": shape (100, 100), type \"<i4\">"
      ]
     },
     "execution_count": 25,
     "metadata": {},
     "output_type": "execute_result"
    }
   ],
   "source": [
    "out_file.create_dataset(\"neighbors\", data=small_neighbors)"
   ]
  },
  {
   "cell_type": "code",
   "execution_count": 26,
   "metadata": {},
   "outputs": [
    {
     "data": {
      "text/plain": [
       "<HDF5 dataset \"test\": shape (100, 128), type \"<f4\">"
      ]
     },
     "execution_count": 26,
     "metadata": {},
     "output_type": "execute_result"
    }
   ],
   "source": [
    "out_file.create_dataset(\"distances\", data=small_distances)\n",
    "out_file.create_dataset(\"train\", data=small_train)\n",
    "out_file.create_dataset(\"test\", data=small_test)"
   ]
  },
  {
   "cell_type": "code",
   "execution_count": 28,
   "metadata": {},
   "outputs": [],
   "source": [
    "parents = [1] * 100"
   ]
  },
  {
   "cell_type": "code",
   "execution_count": 30,
   "metadata": {},
   "outputs": [
    {
     "data": {
      "text/plain": [
       "<HDF5 dataset \"parents\": shape (100,), type \"<i8\">"
      ]
     },
     "execution_count": 30,
     "metadata": {},
     "output_type": "execute_result"
    }
   ],
   "source": [
    "out_file.create_dataset(\"parents\", (100, ), data=parents)"
   ]
  },
  {
   "cell_type": "code",
   "execution_count": 32,
   "metadata": {},
   "outputs": [
    {
     "data": {
      "text/plain": [
       "1"
      ]
     },
     "execution_count": 32,
     "metadata": {},
     "output_type": "execute_result"
    }
   ],
   "source": [
    "out_file[\"parents\"][-1]"
   ]
  },
  {
   "cell_type": "code",
   "execution_count": 33,
   "metadata": {},
   "outputs": [],
   "source": [
    "del out_file[\"parents\"]"
   ]
  },
  {
   "cell_type": "code",
   "execution_count": 34,
   "metadata": {},
   "outputs": [],
   "source": [
    "out_file.flush()\n",
    "out_file.close()\n"
   ]
  },
  {
   "cell_type": "code",
   "execution_count": null,
   "metadata": {},
   "outputs": [],
   "source": []
  }
 ],
 "metadata": {
  "kernelspec": {
   "display_name": ".venv",
   "language": "python",
   "name": "python3"
  },
  "language_info": {
   "codemirror_mode": {
    "name": "ipython",
    "version": 3
   },
   "file_extension": ".py",
   "mimetype": "text/x-python",
   "name": "python",
   "nbconvert_exporter": "python",
   "pygments_lexer": "ipython3",
   "version": "3.8.12"
  }
 },
 "nbformat": 4,
 "nbformat_minor": 2
}
